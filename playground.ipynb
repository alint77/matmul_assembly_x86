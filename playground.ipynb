{
 "cells": [
  {
   "cell_type": "code",
   "execution_count": 1,
   "metadata": {},
   "outputs": [],
   "source": [
    "import numpy as np\n",
    "import torch\n",
    "import time\n",
    "a = [[2.1,3.1,4.1] ,[ 5.1,6.1,7.1] , [8.1,9.1,10.1] , [11.1,12.1,13.1] , [14.1,15.1,16.1]]\n",
    "b = [[2.1,3.1,4.1,5.1] , [2.1,3.1,4.1,5.1] , [2.1,3.1,4.1,5.1]]\n",
    "a_np = np.array(a)\n",
    "b_np = np.array(b)\n",
    "\n",
    "c = np.matmul(a_np, b_np)\n",
    "\n",
    "\n",
    "# print(c)"
   ]
  },
  {
   "cell_type": "code",
   "execution_count": 10,
   "metadata": {},
   "outputs": [],
   "source": []
  },
  {
   "cell_type": "code",
   "execution_count": 8,
   "metadata": {},
   "outputs": [
    {
     "name": "stdout",
     "output_type": "stream",
     "text": [
      "295593.07 GFLOP/S, 0.058120 ms\n",
      "159812.74 GFLOP/S, 0.107500 ms\n",
      "1027504.27 GFLOP/S, 0.016720 ms\n",
      "1590728.84 GFLOP/S, 0.010800 ms\n",
      "960842.79 GFLOP/S, 0.017880 ms\n",
      "1795180.03 GFLOP/S, 0.009570 ms\n",
      "1859293.83 GFLOP/S, 0.009240 ms\n",
      "1829591.71 GFLOP/S, 0.009390 ms\n",
      "1831542.39 GFLOP/S, 0.009380 ms\n",
      "1806505.63 GFLOP/S, 0.009510 ms\n",
      "1892055.62 GFLOP/S, 0.009080 ms\n",
      "1881694.54 GFLOP/S, 0.009130 ms\n",
      "1930322.67 GFLOP/S, 0.008900 ms\n",
      "1900428.22 GFLOP/S, 0.009040 ms\n",
      "1958936.25 GFLOP/S, 0.008770 ms\n",
      "2004652.74 GFLOP/S, 0.008570 ms\n",
      "2006993.96 GFLOP/S, 0.008560 ms\n",
      "1981530.85 GFLOP/S, 0.008670 ms\n",
      "1961172.66 GFLOP/S, 0.008760 ms\n",
      "1976970.00 GFLOP/S, 0.008690 ms\n",
      "1079137.58 GFLOP/S, 0.015920 ms\n",
      "1482301.02 GFLOP/S, 0.011590 ms\n",
      "1859293.10 GFLOP/S, 0.009240 ms\n",
      "1910997.21 GFLOP/S, 0.008990 ms\n",
      "1900427.46 GFLOP/S, 0.009040 ms\n",
      "1904430.37 GFLOP/S, 0.009021 ms\n",
      "1923837.31 GFLOP/S, 0.008930 ms\n",
      "1130998.47 GFLOP/S, 0.015190 ms\n",
      "1908874.48 GFLOP/S, 0.009000 ms\n",
      "1917396.15 GFLOP/S, 0.008960 ms\n",
      "1930321.88 GFLOP/S, 0.008900 ms\n",
      "1153785.72 GFLOP/S, 0.014890 ms\n",
      "1983819.17 GFLOP/S, 0.008660 ms\n",
      "1843333.67 GFLOP/S, 0.009320 ms\n",
      "1919538.66 GFLOP/S, 0.008950 ms\n",
      "1954478.70 GFLOP/S, 0.008790 ms\n",
      "1963414.18 GFLOP/S, 0.008750 ms\n",
      "1902532.20 GFLOP/S, 0.009030 ms\n",
      "1936851.12 GFLOP/S, 0.008870 ms\n",
      "1913125.44 GFLOP/S, 0.008980 ms\n",
      "1943424.67 GFLOP/S, 0.008840 ms\n",
      "1958936.25 GFLOP/S, 0.008770 ms\n",
      "1981530.02 GFLOP/S, 0.008670 ms\n",
      "1910997.21 GFLOP/S, 0.008990 ms\n",
      "1314450.68 GFLOP/S, 0.013070 ms\n",
      "976683.74 GFLOP/S, 0.017590 ms\n",
      "879665.69 GFLOP/S, 0.019530 ms\n",
      "1345330.73 GFLOP/S, 0.012770 ms\n",
      "1810312.41 GFLOP/S, 0.009490 ms\n",
      "1919537.88 GFLOP/S, 0.008950 ms\n"
     ]
    }
   ],
   "source": [
    "N = 2048\n",
    "\n",
    "A=torch.rand((N,N),dtype=torch.float32).to('cuda')\n",
    "B=torch.rand((N,N),dtype=torch.float32).to('cuda')\n",
    "\n",
    "flop = 2*N*N*N\n",
    "\n",
    "for i in range(50):\n",
    "  st = time.monotonic()\n",
    "  C = A @ B.T\n",
    "  et = time.monotonic()\n",
    "  s = et-st\n",
    "  print(f\"{flop/s * 1e-9:.2f} GFLOP/S, {s*1e3:.6f} ms\")"
   ]
  },
  {
   "cell_type": "code",
   "execution_count": null,
   "metadata": {},
   "outputs": [],
   "source": []
  }
 ],
 "metadata": {
  "kernelspec": {
   "display_name": "mscenv",
   "language": "python",
   "name": "python3"
  },
  "language_info": {
   "codemirror_mode": {
    "name": "ipython",
    "version": 3
   },
   "file_extension": ".py",
   "mimetype": "text/x-python",
   "name": "python",
   "nbconvert_exporter": "python",
   "pygments_lexer": "ipython3",
   "version": "3.11.10"
  }
 },
 "nbformat": 4,
 "nbformat_minor": 2
}
