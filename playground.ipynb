{
 "cells": [
  {
   "cell_type": "code",
   "execution_count": 1,
   "metadata": {},
   "outputs": [],
   "source": [
    "a = [[2.1,3.1,4.1] ,[ 5.1,6.1,7.1] , [8.1,9.1,10.1] , [11.1,12.1,13.1] , [14.1,15.1,16.1]]\n",
    "b = [[2.1,3.1,4.1,5.1] , [2.1,3.1,4.1,5.1] , [2.1,3.1,4.1,5.1]]"
   ]
  },
  {
   "cell_type": "code",
   "execution_count": 2,
   "metadata": {},
   "outputs": [
    {
     "name": "stdout",
     "output_type": "stream",
     "text": [
      "[[ 19.53  28.83  38.13  47.43]\n",
      " [ 38.43  56.73  75.03  93.33]\n",
      " [ 57.33  84.63 111.93 139.23]\n",
      " [ 76.23 112.53 148.83 185.13]\n",
      " [ 95.13 140.43 185.73 231.03]]\n"
     ]
    }
   ],
   "source": [
    "import numpy as np\n",
    "\n",
    "a_np = np.array(a)\n",
    "b_np = np.array(b)\n",
    "\n",
    "c = np.matmul(a_np, b_np)\n",
    "print(c)"
   ]
  },
  {
   "cell_type": "code",
   "execution_count": null,
   "metadata": {},
   "outputs": [],
   "source": []
  }
 ],
 "metadata": {
  "kernelspec": {
   "display_name": "mscenv",
   "language": "python",
   "name": "python3"
  },
  "language_info": {
   "codemirror_mode": {
    "name": "ipython",
    "version": 3
   },
   "file_extension": ".py",
   "mimetype": "text/x-python",
   "name": "python",
   "nbconvert_exporter": "python",
   "pygments_lexer": "ipython3",
   "version": "3.11.10"
  }
 },
 "nbformat": 4,
 "nbformat_minor": 2
}
